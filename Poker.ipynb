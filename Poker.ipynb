{
 "cells": [
  {
   "cell_type": "markdown",
   "metadata": {},
   "source": [
    "# Poker Hand Classification"
   ]
  },
  {
   "cell_type": "code",
   "execution_count": 2,
   "metadata": {},
   "outputs": [],
   "source": [
    "import tensorflow as tf\n",
    "import numpy as np\n",
    "import pandas as pd\n",
    "import matplotlib.pyplot as plt\n",
    "%matplotlib inline"
   ]
  },
  {
   "cell_type": "markdown",
   "metadata": {},
   "source": [
    "## PREPARE DATA"
   ]
  },
  {
   "cell_type": "code",
   "execution_count": 3,
   "metadata": {},
   "outputs": [],
   "source": [
    "#Load data\n",
    "train = pd.read_csv(\"Dataset/poker-hand-testing.data\",header = None)\n",
    "test = pd.read_csv(\"Dataset/poker-hand-training-true.data\",header = None)"
   ]
  },
  {
   "cell_type": "code",
   "execution_count": 33,
   "metadata": {},
   "outputs": [
    {
     "name": "stdout",
     "output_type": "stream",
     "text": [
      "<class 'pandas.core.frame.DataFrame'>\n",
      "RangeIndex: 1000000 entries, 0 to 999999\n",
      "Data columns (total 11 columns):\n",
      "0     1000000 non-null int64\n",
      "1     1000000 non-null int64\n",
      "2     1000000 non-null int64\n",
      "3     1000000 non-null int64\n",
      "4     1000000 non-null int64\n",
      "5     1000000 non-null int64\n",
      "6     1000000 non-null int64\n",
      "7     1000000 non-null int64\n",
      "8     1000000 non-null int64\n",
      "9     1000000 non-null int64\n",
      "10    1000000 non-null int64\n",
      "dtypes: int64(11)\n",
      "memory usage: 83.9 MB\n"
     ]
    }
   ],
   "source": [
    "#Info about dataset\n",
    "train.info()"
   ]
  },
  {
   "cell_type": "code",
   "execution_count": 34,
   "metadata": {},
   "outputs": [],
   "source": [
    "#Grab features\n",
    "train_features = train.values[:,:-1]\n",
    "test_features = test.values[:,:-1]\n",
    "#Grab labels\n",
    "train_labels = train.values[:,-1]\n",
    "test_labels = test.values[:,-1]\n",
    "#Grab 20 samples to predict\n",
    "predict_features = train_features[100000:100020]\n",
    "predict_labels = train_labels[100000:100020]\n",
    "#Take only 50000 samples to train\n",
    "train_features = train_features[:50000]\n",
    "train_labels = train_labels[:50000]"
   ]
  },
  {
   "cell_type": "code",
   "execution_count": 35,
   "metadata": {},
   "outputs": [
    {
     "data": {
      "text/plain": [
       "(50000, 10)"
      ]
     },
     "execution_count": 35,
     "metadata": {},
     "output_type": "execute_result"
    }
   ],
   "source": [
    "#Shape of train features\n",
    "train_features.shape"
   ]
  },
  {
   "cell_type": "code",
   "execution_count": 36,
   "metadata": {},
   "outputs": [
    {
     "data": {
      "text/plain": [
       "(25010, 10)"
      ]
     },
     "execution_count": 36,
     "metadata": {},
     "output_type": "execute_result"
    }
   ],
   "source": [
    "#Shape of test features\n",
    "test_features.shape"
   ]
  },
  {
   "cell_type": "code",
   "execution_count": 37,
   "metadata": {},
   "outputs": [
    {
     "data": {
      "text/plain": [
       "(20, 10)"
      ]
     },
     "execution_count": 37,
     "metadata": {},
     "output_type": "execute_result"
    }
   ],
   "source": [
    "#Shape of predict features\n",
    "predict_features.shape"
   ]
  },
  {
   "cell_type": "markdown",
   "metadata": {},
   "source": [
    "## CREATE MODEL"
   ]
  },
  {
   "cell_type": "code",
   "execution_count": 38,
   "metadata": {},
   "outputs": [],
   "source": [
    "#Number of neurons in each layers\n",
    "Input = 10\n",
    "L1 = 200\n",
    "L2 = 100\n",
    "L3 = 60\n",
    "L4 = 30\n",
    "Output = 10"
   ]
  },
  {
   "cell_type": "code",
   "execution_count": 72,
   "metadata": {},
   "outputs": [],
   "source": [
    "#Placeholders\n",
    "X = tf.placeholder(tf.float32, [None, Input])\n",
    "Y_true = tf.placeholder(tf.int64, [None])\n",
    "keep_prob = tf.placeholder(tf.float32)"
   ]
  },
  {
   "cell_type": "code",
   "execution_count": 73,
   "metadata": {},
   "outputs": [],
   "source": [
    "#Weights and biases\n",
    "W1 = tf.Variable(tf.truncated_normal([Input, L1], stddev=0.1))\n",
    "b1 = tf.Variable(tf.zeros([L1]))\n",
    "\n",
    "W2 = tf.Variable(tf.truncated_normal([L1, L2], stddev=0.1))\n",
    "b2 = tf.Variable(tf.zeros([L2]))\n",
    "\n",
    "W3 = tf.Variable(tf.truncated_normal([L2, L3], stddev=0.1))\n",
    "b3 = tf.Variable(tf.zeros([L3]))\n",
    "\n",
    "W4 = tf.Variable(tf.truncated_normal([L3, L4], stddev=0.1))\n",
    "b4 = tf.Variable(tf.zeros([L4]))\n",
    "\n",
    "W5 = tf.Variable(tf.truncated_normal([L4, Output], stddev=0.1))\n",
    "b5 = tf.Variable(tf.zeros([Output]))"
   ]
  },
  {
   "cell_type": "code",
   "execution_count": 74,
   "metadata": {},
   "outputs": [],
   "source": [
    "#Create layers with dropout\n",
    "Y1 = tf.nn.relu(tf.matmul(X, W1) + b1)\n",
    "Y1 = tf.nn.dropout(Y1, keep_prob)\n",
    "Y2 = tf.nn.relu(tf.matmul(Y1, W2) + b2)\n",
    "Y2 = tf.nn.dropout(Y2, keep_prob)\n",
    "Y3 = tf.nn.relu(tf.matmul(Y2, W3) + b3)\n",
    "Y3 = tf.nn.dropout(Y3, keep_prob)\n",
    "Y4 = tf.nn.relu(tf.matmul(Y3, W4) + b4)\n",
    "Y4 = tf.nn.dropout(Y4, keep_prob)\n",
    "\n",
    "#Softmax\n",
    "Ylogits = tf.matmul(Y4, W5) + b5\n",
    "Y = tf.nn.softmax(Ylogits)"
   ]
  },
  {
   "cell_type": "code",
   "execution_count": 75,
   "metadata": {},
   "outputs": [],
   "source": [
    "#Loss function\n",
    "cross_entropy = tf.nn.sparse_softmax_cross_entropy_with_logits(logits=Ylogits, labels=Y_true)\n",
    "cross_entropy = tf.reduce_mean(cross_entropy)\n",
    "                                                          \n",
    "#Accuracy\n",
    "correct_prediction = tf.equal(tf.argmax(Y, 1), Y_true)\n",
    "accuracy = tf.reduce_mean(tf.cast(correct_prediction, tf.float32))\n",
    " \n",
    "#Optimizer\n",
    "train_step = tf.train.AdamOptimizer(learning_rate=0.003).minimize(cross_entropy)"
   ]
  },
  {
   "cell_type": "markdown",
   "metadata": {},
   "source": [
    "## TRAIN MODEL"
   ]
  },
  {
   "cell_type": "code",
   "execution_count": null,
   "metadata": {},
   "outputs": [],
   "source": [
    "#Epochs and batch size\n",
    "num_epochs = 300\n",
    "batchsize=5000\n",
    "\n",
    "#Init global variables\n",
    "init = tf.global_variables_initializer()\n",
    "\n",
    "#Empty lists to plots\n",
    "train_losses = list()\n",
    "train_acc = list()\n",
    "test_losses = list()\n",
    "test_acc = list()\n",
    "pred = list()\n",
    "\n",
    "#Create session\n",
    "with tf.Session() as sess:\n",
    "    sess.run(init)\n",
    "    for epoch in range(num_epochs):\n",
    "        for i in range(0,len(train_features),batchsize):\n",
    "            batch_X_train =train_features[i:i+batchsize]\n",
    "            batch_Y_train =train_labels[i:i+batchsize]\n",
    "            \n",
    "            #Two lines to visualization data (not to training)\n",
    "            acc_trn, loss_trn = sess.run([accuracy, cross_entropy], feed_dict={X: batch_X_train, Y_true: batch_Y_train, keep_prob: 1.0})\n",
    "            acc_tst, loss_tst = sess.run([accuracy, cross_entropy], feed_dict={X: test_features, Y_true: test_labels, keep_prob: 1.0})\n",
    "            \n",
    "            #Print statistics\n",
    "            print(\"epoch{0} #{1} Trn acc={2:2.3f} , Trn loss={3:3.3f} Tst acc={4:2.3f}, Tst loss={5:3.3f}\".format(epoch,i,acc_trn,loss_trn,acc_tst,loss_tst))\n",
    "            \n",
    "            #Add acc and loss to lists\n",
    "            train_losses.append(loss_trn)\n",
    "            train_acc.append(acc_trn)\n",
    "            test_losses.append(loss_tst)\n",
    "            test_acc.append(acc_tst)\n",
    "            \n",
    "            #TRAIN MODEL\n",
    "            sess.run(train_step, feed_dict={X: batch_X_train, Y_true: batch_Y_train, keep_prob: 0.75})\n",
    "            \n",
    "    #At the end predict 20 samples\n",
    "    y_pred = sess.run(tf.argmax(Y, 1), feed_dict={X: predict_features, keep_prob: 1.0})"
   ]
  },
  {
   "cell_type": "markdown",
   "metadata": {},
   "source": [
    "## PREDICT LABELS"
   ]
  },
  {
   "cell_type": "code",
   "execution_count": 77,
   "metadata": {},
   "outputs": [
    {
     "name": "stdout",
     "output_type": "stream",
     "text": [
      "True labels: [1 2 0 1 1 0 0 1 0 2 0 0 1 0 1 0 1 0 0 0]\n",
      "Predicted labels: [1 2 0 1 1 0 0 1 0 2 0 0 1 0 1 0 1 0 0 0]\n",
      "\n",
      " What labels is equal:\n",
      "[ True  True  True  True  True  True  True  True  True  True  True  True\n",
      "  True  True  True  True  True  True  True  True]\n"
     ]
    }
   ],
   "source": [
    "#Show predicted labels\n",
    "print('True labels:', predict_labels)\n",
    "print('Predicted labels:', y_pred)\n",
    "print('\\n What labels is equal:')\n",
    "print(predict_labels == y_pred)"
   ]
  },
  {
   "cell_type": "markdown",
   "metadata": {},
   "source": [
    "## PLOTS"
   ]
  },
  {
   "cell_type": "code",
   "execution_count": 78,
   "metadata": {},
   "outputs": [
    {
     "data": {
      "image/png": "[encoded data removed]",
      "text/plain": [
       "<Figure size 720x720 with 4 Axes>"
      ]
     },
     "metadata": {
      "needs_background": "light"
     },
     "output_type": "display_data"
    }
   ],
   "source": [
    "#Plots\n",
    "fig = plt.figure(figsize=(10,10)) \n",
    "plt.subplot(2,2,1)\n",
    "plt.title('Train accuracy: %f' %train_acc[-1])\n",
    "plt.plot(range(len(train_acc)), train_acc, color='r')\n",
    "plt.subplot(2,2,2)\n",
    "plt.title('Train loss: %f' %train_losses[-1])\n",
    "plt.plot(range(len(train_losses)), train_losses)\n",
    "plt.subplot(2,2,3)\n",
    "plt.title('Test accuracy: %f' %test_acc[-1])\n",
    "plt.plot(range(len(test_acc)), test_acc, color='r')\n",
    "plt.subplot(2,2,4)\n",
    "plt.title('Test loss: %f' %test_losses[-1])\n",
    "plt.plot(range(len(test_losses)), test_losses)\n",
    "plt.tight_layout()"
   ]
  },
  {
   "cell_type": "code",
   "execution_count": null,
   "metadata": {},
   "outputs": [],
   "source": []
  }
 ],
 "metadata": {
  "kernelspec": {
   "display_name": "Python 3",
   "language": "python",
   "name": "python3"
  },
  "language_info": {
   "codemirror_mode": {
    "name": "ipython",
    "version": 3
   },
   "file_extension": ".py",
   "mimetype": "text/x-python",
   "name": "python",
   "nbconvert_exporter": "python",
   "pygments_lexer": "ipython3",
   "version": "3.6.7"
  }
 },
 "nbformat": 4,
 "nbformat_minor": 1
}
